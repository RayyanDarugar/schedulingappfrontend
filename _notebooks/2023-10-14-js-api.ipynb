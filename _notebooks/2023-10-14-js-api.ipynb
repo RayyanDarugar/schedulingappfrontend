{
 "cells": [
  {
   "attachments": {},
   "cell_type": "markdown",
   "metadata": {},
   "source": [
    "---\n",
    "comments: true\n",
    "layout: post\n",
    "title: Javascript Web Page using an API\n",
    "description: A discussion on the frontend usage of an API. This is about creating a page that is well organized and updates based on the backend code created for the api.\n",
    "type: hacks\n",
    "courses: { compsci: {week: 1} }\n",
    "---"
   ]
  },
  {
   "cell_type": "markdown",
   "metadata": {},
   "source": [
    "# Hacks\n",
    "\n",
    "The code below relates to the rapidapi you worked with last week.\n",
    "\n",
    "- What are some similarities you see with the javascript for the jokes api?\n",
    "- In a blogpost, break up the code in cells like done above and try to describe what this code is doing."
   ]
  },
  {
   "cell_type": "code",
   "execution_count": null,
   "metadata": {
    "vscode": {
     "languageId": "html"
    }
   },
   "outputs": [],
   "source": [
    "<!-- HTML table fragment for page -->\n",
    "<table>\n",
    "  <thead>\n",
    "  <tr>\n",
    "    <th>Time</th>\n",
    "    <th>All-time Cases</th>\n",
    "    <th>Recorded Deaths</th>\n",
    "    <th>Active Cases</th>\n",
    "  </tr>\n",
    "  </thead>\n",
    "  <tbody>\n",
    "    <td id=\"time\"></td>\n",
    "    <td id=\"total_cases\"></td>\n",
    "    <td id=\"total_deaths\"></td>\n",
    "    <td id=\"active_cases\"></td>\n",
    "  </tbody>\n",
    "</table>\n",
    "\n",
    "<table>\n",
    "  <thead>\n",
    "  <tr>\n",
    "    <th>Country</th>\n",
    "    <th>All-time Cases</th>\n",
    "    <th>Recorded Deaths</th>\n",
    "    <th>Active Cases</th>\n",
    "  </tr>\n",
    "  </thead>\n",
    "  <tbody id=\"result\">\n",
    "    <!-- generated rows -->\n",
    "  </tbody>\n",
    "</table>"
   ]
  },
  {
   "cell_type": "markdown",
   "metadata": {},
   "source": [
    "- The main purpose of this HTML code is to make a table that will hold the data from the API\n",
    "- There are two tables, one that has an id for each table data, and one that has one id for the whole table\n",
    "    - The purpose of this is if you have ONLY one row or have to populate many rows"
   ]
  },
  {
   "cell_type": "code",
   "execution_count": null,
   "metadata": {
    "vscode": {
     "languageId": "javascript"
    }
   },
   "outputs": [],
   "source": [
    "<!-- Script is layed out in a sequence (no function) and will execute when page is loaded -->\n",
    "<script>\n",
    "    // prepare HTML result container for new output\n",
    "    const resultContainer = document.getElementById(\"result\");\n",
    "  \n",
    "    // prepare fetch options\n",
    "    const url = \"https://flask.nighthawkcodingsociety.com/api/covid/\";\n",
    "    const headers = {\n",
    "      method: 'GET', // *GET, POST, PUT, DELETE, etc.\n",
    "      mode: 'cors', // no-cors, *cors, same-origin\n",
    "      cache: 'default', // *default, no-cache, reload, force-cache, only-if-cached\n",
    "      credentials: 'omit', // include, *same-origin, omit\n",
    "      headers: {\n",
    "        'Content-Type': 'application/json'\n",
    "        // 'Content-Type': 'application/x-www-form-urlencoded',\n",
    "      },\n",
    "    };\n",
    "  \n",
    "    // fetch the API\n",
    "    fetch(url, headers)\n",
    "      // response is a RESTful \"promise\" on any successful fetch\n",
    "      .then(response => {\n",
    "        // check for response errors\n",
    "        if (response.status !== 200) {\n",
    "            const errorMsg = 'Database response error: ' + response.status;\n",
    "            console.log(errorMsg);\n",
    "            const tr = document.createElement(\"tr\");\n",
    "            const td = document.createElement(\"td\");\n",
    "            td.innerHTML = errorMsg;\n",
    "            tr.appendChild(td);\n",
    "            resultContainer.appendChild(tr);\n",
    "            return;\n",
    "        }"
   ]
  },
  {
   "cell_type": "markdown",
   "metadata": {},
   "source": [
    "-  This is the start of the Javascript code that prepares the fetch options for the data from the main url\n",
    "- There is an if statement to handle any errors"
   ]
  },
  {
   "cell_type": "code",
   "execution_count": null,
   "metadata": {
    "vscode": {
     "languageId": "javascript"
    }
   },
   "outputs": [],
   "source": [
    "// valid response will have json data\n",
    "response.json().then(data => {\n",
    "    console.log(data);\n",
    "    console.log(data.world_total)\n",
    "\n",
    "    // World Data\n",
    "    document.getElementById(\"time\").innerHTML = data.world_total.statistic_taken_at;\n",
    "    document.getElementById(\"total_cases\").innerHTML = data.world_total.total_cases;\n",
    "    document.getElementById(\"total_deaths\").innerHTML = data.world_total.total_deaths;\n",
    "    document.getElementById(\"active_cases\").innerHTML = data.world_total.active_cases;\n",
    "\n",
    "    // Country data\n",
    "    for (const row of data.countries_stat) {\n",
    "      console.log(row);\n",
    "\n",
    "      // tr for each row\n",
    "      const tr = document.createElement(\"tr\");\n",
    "      // td for each column\n",
    "      const name = document.createElement(\"td\");\n",
    "      const cases = document.createElement(\"td\");\n",
    "      const deaths = document.createElement(\"td\");\n",
    "      const active = document.createElement(\"td\");\n",
    "\n",
    "      // data is specific to the API\n",
    "      name.innerHTML = row.country_name;\n",
    "      cases.innerHTML = row.cases; \n",
    "      deaths.innerHTML = row.deaths; \n",
    "      active.innerHTML = row.active_cases; \n",
    "\n",
    "      // this builds td's into tr\n",
    "      tr.appendChild(name);\n",
    "      tr.appendChild(cases);\n",
    "      tr.appendChild(deaths);\n",
    "      tr.appendChild(active);\n",
    "\n",
    "      // add HTML to container\n",
    "      resultContainer.appendChild(tr);\n",
    "    }\n",
    "})\n",
    "})"
   ]
  },
  {
   "cell_type": "markdown",
   "metadata": {},
   "source": [
    "- This code converts the data from the api to json\n",
    "- For the first table, it gets the id of the table from the HTMl code and sets the inner HTML to the data from the API\n",
    "- For the second  table, there is a loop that goes through each row and creates a table row and table data for each data. \n",
    "- It sets the table data to the data in the API and displays it in the table"
   ]
  },
  {
   "cell_type": "code",
   "execution_count": null,
   "metadata": {
    "vscode": {
     "languageId": "javascript"
    }
   },
   "outputs": [],
   "source": [
    "  // catch fetch errors (ie ACCESS to server blocked)\n",
    "  .catch(err => {\n",
    "    console.error(err);\n",
    "    const tr = document.createElement(\"tr\");\n",
    "    const td = document.createElement(\"td\");\n",
    "    td.innerHTML = err;\n",
    "    tr.appendChild(td);\n",
    "    resultContainer.appendChild(tr);\n",
    "  });\n",
    "</script>"
   ]
  },
  {
   "cell_type": "markdown",
   "metadata": {},
   "source": [
    "- This code is the end of the script tags and catches any errors "
   ]
  }
 ],
 "metadata": {
  "kernelspec": {
   "display_name": "Python 3 (ipykernel)",
   "language": "python",
   "name": "python3"
  },
  "language_info": {
   "codemirror_mode": {
    "name": "ipython",
    "version": 3
   },
   "file_extension": ".py",
   "mimetype": "text/x-python",
   "name": "python",
   "nbconvert_exporter": "python",
   "pygments_lexer": "ipython3",
   "version": "3.11.4"
  }
 },
 "nbformat": 4,
 "nbformat_minor": 2
}

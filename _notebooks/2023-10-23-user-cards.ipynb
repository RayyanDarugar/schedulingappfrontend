{
 "cells": [
  {
   "attachments": {},
   "cell_type": "markdown",
   "metadata": {},
   "source": [
    "---\n",
    "comments: true\n",
    "layout: default\n",
    "title: User Cards\n",
    "type: hacks\n",
    "courses: { compsci: {week: 2} }\n",
    "permalink: /scheduler/usercards\n",
    "---"
   ]
  },
  {
   "cell_type": "raw",
   "metadata": {},
   "source": [
    "\n",
    "<link rel=\"stylesheet\" href=\"../../assets/css/user_card.css\">\n",
    "\n",
    "\n",
    "<body>\n",
    "<a onClick=\"getUserData('aidan')\" href=\"#\">\n",
    "  <div class=\"card\">\n",
    "    <img src=\"../../images/aidan.png\">\n",
    "    <div class=\"desc\">\n",
    "      <h1>Aidan</h1>\n",
    "      <p>Student, AP CSP</p>\n",
    "      <p>15</p>\n",
    "      <p>Del Norte High School</p>\n",
    "    </div>\n",
    "  </div>\n",
    "</a>\n",
    "<a onClick=\"getUserData('daniel')\" href=\"#\">\n",
    "  <div class=\"card\">\n",
    "    <img src=\"../../images/daniel.png\">\n",
    "    <div class=\"desc\">\n",
    "      <h1>Daniel</h1>\n",
    "      <p>Student, AP CSP</p>\n",
    "      <p>15</p>\n",
    "      <p>Del Norte High School</p>\n",
    "    </div>\n",
    "  </div>\n",
    "</a>\n",
    "<a onClick=\"getUserData('rayyan')\" href=\"#\">\n",
    "  <div class=\"card\">\n",
    "    <img src=\"../../images/rayyan.png\">\n",
    "    <div class=\"desc\">\n",
    "      <h1>Rayyan</h1>\n",
    "      <p>Student, AP CSP</p>\n",
    "      <p>16</p>\n",
    "      <p>Del Norte High School</p>\n",
    "    </div>\n",
    "  </div>\n",
    "</a>\n",
    "<a onClick=\"getUserData('nathan')\" href=\"#\">\n",
    "  <div class=\"card\">\n",
    "    <img src=\"../../images/nathan.png\">\n",
    "    <div class=\"desc\">\n",
    "      <h1>Nathan</h1>\n",
    "      <p>Student, AP CSP</p>\n",
    "      <p>16</p>\n",
    "      <p>Del Norte High School</p>\n",
    "    </div>\n",
    "  </div>\n",
    "</a>\n",
    "</body>"
   ]
  },
  {
   "cell_type": "raw",
   "metadata": {},
   "source": [
    "<script>\n",
    "function getUserData(user) {\n",
    "    console.log(user);\n",
    "    localStorage.setItem(\"events\", '[]');\n",
    "    if (localStorage.getItem(user)) {\n",
    "        localStorage.setItem('events', localStorage.getItem(user)) \n",
    "    }\n",
    "    \n",
    "    // keep track of who the active or current user is\n",
    "    localStorage.setItem('currentUser', user)\n",
    "\n",
    "    window.location = \"{{site.baseurl}}//usercalender\"\n",
    "}\n",
    "\n",
    "window.addEventListener( 'beforeunload', function( event ) {\n",
    "    console.log('finished')\n",
    "});\n",
    "\n",
    "</script>"
   ]
  }
 ],
 "metadata": {
  "kernelspec": {
   "display_name": "Python 3 (ipykernel)",
   "language": "python",
   "name": "python3"
  },
  "language_info": {
   "codemirror_mode": {
    "name": "ipython",
    "version": 3
   },
   "file_extension": ".py",
   "mimetype": "text/x-python",
   "name": "python",
   "nbconvert_exporter": "python",
   "pygments_lexer": "ipython3",
   "version": "3.11.4"
  }
 },
 "nbformat": 4,
 "nbformat_minor": 2
}

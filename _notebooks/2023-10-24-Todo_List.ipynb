{
 "cells": [
  {
   "cell_type": "markdown",
   "metadata": {},
   "source": [
    "---\n",
    "comments: true\n",
    "layout: post\n",
    "title: Todo List\n",
    "description: List of all tasks Nathan, Rayyan, Aidan, and Daniel have to complete and by when\n",
    "type: hacks\n",
    "courses: { compsci: {week: 0} }\n",
    "---"
   ]
  },
  {
   "cell_type": "markdown",
   "metadata": {},
   "source": [
    "- Nathan:\n",
    "    - Index.html (frontend UI and making it pretty)\n",
    "        - Done by Wednesday Oct. 25\n",
    "    - Pomodoro Timer for studying (specifically for the in-day class setup) \n",
    "        - Done by Thursday Oct. 26\n",
    "\n",
    "- Aidan:\n",
    "    - Create User Cards (Complete)\n",
    "    - Link User Cards to calendar page (pull their classes and a pre filled out daily plan from backend)\n",
    "    - Display monthly schedule (Aidan put calendar image here)\n",
    "    - Link Calendar days to daily plans\n",
    "\n",
    "- Daniel:\n",
    "    - Adding classes dropdown to create schedule\n",
    "    - Make timer and timer button\n",
    "    - Make program to average out times for study time set\n",
    "\n",
    "- Rayyan:\n",
    "    - Set up daily plan:\n",
    "        - Needs setup for Work Start Time, # Of Breaks, Sleep Time, and then uses class list dropdown menu with inputs for priority and time it will take for each class\n",
    "        - Organizes Inputs into a schedule with all times mapped out\n",
    "        - <img src=\"../../../../images/dailyPlan.png\">\n",
    "        - Done by Thursday, Oct. 26"
   ]
  }
 ],
 "metadata": {
  "kernelspec": {
   "display_name": "Python 3",
   "language": "python",
   "name": "python3"
  },
  "language_info": {
   "name": "python",
   "version": "3.11.4"
  }
 },
 "nbformat": 4,
 "nbformat_minor": 2
}

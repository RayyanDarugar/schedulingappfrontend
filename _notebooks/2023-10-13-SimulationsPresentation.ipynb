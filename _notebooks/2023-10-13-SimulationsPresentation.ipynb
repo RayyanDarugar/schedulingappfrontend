{
 "cells": [
  {
   "cell_type": "markdown",
   "metadata": {},
   "source": [
    "---\n",
    "comments: true\n",
    "layout: notebook\n",
    "title: Big Idea 3.16 Simulations\n",
    "description: The idea of a Google Chrome extension that tracks skincare shopping with a timer came from the ideas of all the group members. Aidan used skincare as his project for Web Programming Basics. Rayyan and Nathan used a timer for their Web Pogramming basics. Daniel incorporated a google chrome extension for fried rice. So, after seeing all these scattered ideas, Mr Mortensen suggested that we combine them into one idea.\n",
    "type: hacks\n",
    "courses: { compsci: {week: 0} }\n",
    "---"
   ]
  },
  {
   "cell_type": "code",
   "execution_count": null,
   "metadata": {},
   "outputs": [],
   "source": []
  }
 ],
 "metadata": {
  "language_info": {
   "name": "python"
  }
 },
 "nbformat": 4,
 "nbformat_minor": 2
}

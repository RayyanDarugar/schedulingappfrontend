{
 "cells": [
  {
   "attachments": {},
   "cell_type": "markdown",
   "metadata": {},
   "source": [
    "---\n",
    "comments: true\n",
    "layout: post\n",
    "title: Scheduler\n",
    "type: hacks\n",
    "courses: { compsci: {week: 2} }\n",
    "---"
   ]
  },
  {
   "cell_type": "raw",
   "metadata": {},
   "source": [
    "<head>\n",
    "\t<meta charset=\"UTF-8\">\n",
    "\t<meta name=\"viewport\" content=\"width=device-width, initial-scale=1.0\">\n",
    "\t<link rel=\"stylesheet\" href=\"../../../assets/css/scheduler.css\">\n",
    "\t<title>Task Scheduler</title>\n",
    "</head>\n",
    "\n",
    "<body>\n",
    "\t<header>\n",
    "\t\t<h1>Task Scheduler</h1>\n",
    "\t</header>\n",
    "\t<main>\n",
    "\t\t<div class=\"task-form\">\n",
    "\t\t\t<input type=\"text\" id=\"task\" placeholder=\"Enter task...\">\n",
    "\t\t\t<select id=\"priority\">\n",
    "\t\t\t\t<option value=\"top\">Top Priority</option>\n",
    "\t\t\t\t<option value=\"middle\">Middle Priority</option>\n",
    "\t\t\t\t<option value=\"low\">Less Priority</option>\n",
    "\t\t\t</select>\n",
    "\t\t\t<input type=\"date\" id=\"deadline\">\n",
    "\t\t\t<button id=\"add-task\">Add Task</button>\n",
    "\t\t</div>\n",
    "\t\t<div class=\"task-list\" id=\"task-list\">\n",
    "\t\t\t<!-- Tasks will be added here dynamically -->\n",
    "\t\t</div>\n",
    "\t\t<script src=\"../../../assets/js/scheduler.js\"></script>\n",
    "\t</main>\n",
    "</body>\n",
    "\n",
    "\n"
   ]
  }
 ],
 "metadata": {
  "kernelspec": {
   "display_name": "Python 3 (ipykernel)",
   "language": "python",
   "name": "python3"
  },
  "language_info": {
   "codemirror_mode": {
    "name": "ipython",
    "version": 3
   },
   "file_extension": ".py",
   "mimetype": "text/x-python",
   "name": "python",
   "nbconvert_exporter": "python",
   "pygments_lexer": "ipython3",
   "version": "3.11.4"
  }
 },
 "nbformat": 4,
 "nbformat_minor": 2
}

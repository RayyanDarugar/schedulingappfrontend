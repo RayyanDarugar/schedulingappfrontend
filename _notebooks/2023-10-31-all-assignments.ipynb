{
 "cells": [
  {
   "attachments": {},
   "cell_type": "markdown",
   "metadata": {},
   "source": [
    "---\n",
    "comments: true\n",
    "layout: post\n",
    "title: Integration 2 - Displaying All Assignments for a User\n",
    "description: In the previous integration, the API was only able to return assignments for one class. This made the scheduler very limited because you could only view your assignments for one class. The changes made to be able to show all assignments are a for loop to return every course's assignments.\n",
    "type: hacks\n",
    "courses: { compsci: {week: 3} }\n",
    "permalink: /assignments/all\n",
    "---"
   ]
  },
  {
   "cell_type": "raw",
   "metadata": {},
   "source": [
    "<html>\n",
    "<head>\n",
    "    <title>Homework List</title>\n",
    "</head>\n",
    "<body>\n",
    "    <div id=\"assignments\"></div>\n",
    "\n",
    "    <script>\n",
    "        // const websiteUrl = 'https://studybuddy.stu.nighthawkcodingsociety.com/assignments/user'; \n",
    "        const websiteUrl = 'http://127.0.0.1:5001/assignments/user'; \n",
    "\n",
    "        fetch(websiteUrl) \n",
    "            .then(response => response.json())\n",
    "            .then(data => {\n",
    "                const assignmentsDiv = document.getElementById('assignments');\n",
    "                if (data.error) {\n",
    "                    assignmentsDiv.textContent = data.error;\n",
    "                } else {\n",
    "                    data.forEach(assignment => {\n",
    "                        const assignmentElement = document.createElement('p');\n",
    "                        assignmentElement.textContent = `Assignment: ${assignment.name}, Due Date: ${assignment.due_at}`;\n",
    "                        assignmentsDiv.appendChild(assignmentElement);\n",
    "                    });\n",
    "                }\n",
    "            })\n",
    "            .catch(error => {\n",
    "                console.error('An error occurred:', error);\n",
    "            });\n",
    "    </script>\n",
    "</body>\n",
    "</html>"
   ]
  }
 ],
 "metadata": {
  "kernelspec": {
   "display_name": "Python 3 (ipykernel)",
   "language": "python",
   "name": "python3"
  },
  "language_info": {
   "codemirror_mode": {
    "name": "ipython",
    "version": 3
   },
   "file_extension": ".py",
   "mimetype": "text/x-python",
   "name": "python",
   "nbconvert_exporter": "python",
   "pygments_lexer": "ipython3",
   "version": "3.11.4"
  }
 },
 "nbformat": 4,
 "nbformat_minor": 2
}

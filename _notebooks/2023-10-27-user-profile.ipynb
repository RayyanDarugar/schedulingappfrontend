{
 "cells": [
  {
   "cell_type": "markdown",
   "metadata": {},
   "source": [
    "---\n",
    "comments: true\n",
    "layout: post\n",
    "title: User Profile\n",
    "description: User Profiles \n",
    "type: hacks\n",
    "courses: { compsci: {week: 3} }\n",
    "---"
   ]
  },
  {
   "cell_type": "code",
   "execution_count": null,
   "metadata": {
    "vscode": {
     "languageId": "javascript"
    }
   },
   "outputs": [],
   "source": [
    "// Assuming you have a function to handle profile selection\n",
    "function selectProfile(userId) {\n",
    "    fetch(`/api/user/${userId}`)\n",
    "      .then(response => response.json())\n",
    "      .then(data => {\n",
    "        // Update the UI to display the user's profile data\n",
    "        // data will contain the user-specific information\n",
    "      })\n",
    "      .catch(error => console.error(error));\n",
    "  }\n",
    "  "
   ]
  }
 ],
 "metadata": {
  "kernelspec": {
   "display_name": "Python 3",
   "language": "python",
   "name": "python3"
  },
  "language_info": {
   "name": "python",
   "version": "3.11.4"
  }
 },
 "nbformat": 4,
 "nbformat_minor": 2
}

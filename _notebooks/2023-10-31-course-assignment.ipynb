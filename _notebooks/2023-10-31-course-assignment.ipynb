{
 "cells": [
  {
   "attachments": {},
   "cell_type": "markdown",
   "metadata": {},
   "source": [
    "---\n",
    "comments: true\n",
    "layout: post\n",
    "title: Integration 1 - Displaying Assignments for One Course \n",
    "description: Uses Canvas API to return one courses assignment for one user. In this case, return the assignments for AP CSP for Aidan Lau\n",
    "type: hacks\n",
    "courses: { compsci: {week: 3} }\n",
    "permalink: /assignments\n",
    "---"
   ]
  },
  {
   "cell_type": "raw",
   "metadata": {},
   "source": [
    "<html>\n",
    "<head>\n",
    "    <title>Homework List</title>\n",
    "</head>\n",
    "<body>\n",
    "    <div id=\"assignments\"></div>\n",
    "\n",
    "    <script>\n",
    "        const websiteUrl = 'https://studybuddy.stu.nighthawkcodingsociety.com/assignments'; \n",
    "\n",
    "        fetch(websiteUrl) \n",
    "            .then(response => response.json())\n",
    "            .then(data => {\n",
    "                const assignmentsDiv = document.getElementById('assignments');\n",
    "                if (data.error) {\n",
    "                    assignmentsDiv.textContent = data.error;\n",
    "                } else {\n",
    "                    data.forEach(assignment => {\n",
    "                        const assignmentElement = document.createElement('p');\n",
    "                        assignmentElement.textContent = `Assignment: ${assignment.name}, Due Date: ${assignment.due_at}`;\n",
    "                        assignmentsDiv.appendChild(assignmentElement);\n",
    "                    });\n",
    "                }\n",
    "            })\n",
    "            .catch(error => {\n",
    "                console.error('An error occurred:', error);\n",
    "            });\n",
    "    </script>\n",
    "</body>\n",
    "</html>"
   ]
  }
 ],
 "metadata": {
  "kernelspec": {
   "display_name": "Python 3 (ipykernel)",
   "language": "python",
   "name": "python3"
  },
  "language_info": {
   "codemirror_mode": {
    "name": "ipython",
    "version": 3
   },
   "file_extension": ".py",
   "mimetype": "text/x-python",
   "name": "python",
   "nbconvert_exporter": "python",
   "pygments_lexer": "ipython3",
   "version": "3.11.4"
  }
 },
 "nbformat": 4,
 "nbformat_minor": 2
}

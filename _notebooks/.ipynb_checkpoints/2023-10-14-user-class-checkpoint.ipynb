{
 "cells": [
  {
   "attachments": {},
   "cell_type": "markdown",
   "metadata": {},
   "source": [
    "---\n",
    "comments: true\n",
    "layout: post\n",
    "title: User Classes\n",
    "description: Javascript Classes\n",
    "type: hacks\n",
    "courses: { compsci: {week: 2} }\n",
    "---"
   ]
  },
  {
   "cell_type": "code",
   "execution_count": null,
   "metadata": {},
   "outputs": [],
   "source": [
    "class User {\n",
    "    constructor(name, classes, assignments, notes, events, grades) {\n",
    "        this.name = name;\n",
    "        this.classes = classes;\n",
    "        this.assignments = assignments;\n",
    "        this.notes = notes;\n",
    "        this.events = events;\n",
    "        this.grades = grades;\n",
    "    }\n",
    "\n",
    "    print() {\n",
    "        console.log(`My name is ${this.name}. These are my classes: ${this.classes}. These are my assignments: ${this.assignments}`);\n",
    "    }\n",
    "}\n",
    "\n",
    "let aidan = new User('Aidan', ['CSP, Chinese, Math, English, Biology'], ['N@TM', 'Wod', 'Night'], null, null, null);\n",
    "aidan.print();\n"
   ]
  }
 ],
 "metadata": {
  "kernelspec": {
   "display_name": "Python 3 (ipykernel)",
   "language": "python",
   "name": "python3"
  },
  "language_info": {
   "codemirror_mode": {
    "name": "ipython",
    "version": 3
   },
   "file_extension": ".py",
   "mimetype": "text/x-python",
   "name": "python",
   "nbconvert_exporter": "python",
   "pygments_lexer": "ipython3",
   "version": "3.11.6"
  }
 },
 "nbformat": 4,
 "nbformat_minor": 4
}

{
 "cells": [
  {
   "attachments": {},
   "cell_type": "markdown",
   "metadata": {},
   "source": [
    "---\n",
    "comments: true\n",
    "layout: notebook\n",
    "title: Create Performance Task Blog Notes\n",
    "description: Team attended webinar about the performance task on the AP exam. 10/10/23 @ Zoom 4:00 P.M.\n",
    "type: tangibles\n",
    "courses: { compsci: {week: 1} }\n",
    "---"
   ]
  },
  {
   "cell_type": "markdown",
   "metadata": {},
   "source": [
    "# Brief Overview of Webinar\n",
    "\n",
    "- On the AP Exam, there will be a coding section, video section, and written response question section\n",
    "- Specifically, for the coding section, you can collaborate with 2-3 people. The current passion project that will be presented on November 2nd at N@TM will help us in succeeding for the AP Exam coding section because it improves our coding skills, video making skills, and collaboration.\n",
    "\n",
    "# Changes Moving Foward\n",
    "\n",
    "1. Collaboration\n",
    "    - Because collaboration is extremely important when taking the coding part of the AP Exam, it is very important that on this passion project, we start collaborating more often and using scrum boards. For this project, we've used Github Issues to write out goals and assign them to teammate, but from now on, we are going to use scrum boards to make collaboration and planning even omre clearer.\n",
    "2. Video Making \n",
    "    - For the video making segment, we really just recorded our own part and tried to fit all the clips together. This would result in inconsistency in the video length if it didnt meet a certain maximum and we could get marked off. For the video part of the AP Exam, it cannot exceed 1 minute. From now on, its very important to keep conscious of the time spent while talking and going over code in a video. It might take a couple of tries to make the right video, but it will save time and fit the requirements in the end.\n",
    "3. Coding \n",
    "    - Currently, coding is something that we all do, learn, and implement into our projects Each project improves our coding skills so there really is not many changes you can make. Maybe in the future with other projects, we can take on a new role. For example, if I was frontend for this project, I can learn backend for another project. Instead of being a master at frontend, I can also be a master at backend The Nighthawk Coding Society explained during their Agile Developmment Process talk that when you take on new roles that you've never done, it can help improve your skills broadly and drastically. Don't always stay in your comfort zone.\n"
   ]
  }
 ],
 "metadata": {
  "kernelspec": {
   "display_name": "Python 3 (ipykernel)",
   "language": "python",
   "name": "python3"
  },
  "language_info": {
   "codemirror_mode": {
    "name": "ipython",
    "version": 3
   },
   "file_extension": ".py",
   "mimetype": "text/x-python",
   "name": "python",
   "nbconvert_exporter": "python",
   "pygments_lexer": "ipython3",
   "version": "3.11.4"
  }
 },
 "nbformat": 4,
 "nbformat_minor": 2
}

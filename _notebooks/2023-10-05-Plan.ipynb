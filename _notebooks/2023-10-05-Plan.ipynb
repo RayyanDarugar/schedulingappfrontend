{
 "cells": [
  {
   "attachments": {},
   "cell_type": "markdown",
   "metadata": {},
   "source": [
    "---\n",
    "comments: true\n",
    "layout: notebook\n",
    "title: Skincare Shopping\n",
    "description: The idea of a Google Chrome extension that tracks skincare shopping with a timer came from the ideas of all the group members. Aidan used skincare as his project for Web Programming Basics. Rayyan and Nathan used a timer for their Web Pogramming basics. Daniel incorporated a google chrome extension for fried rice. So, after seeing all these scattered ideas, Mr Mortensen suggested that we combine them into one idea.\n",
    "type: hacks\n",
    "courses: { compsci: {week: 0} }\n",
    "---"
   ]
  },
  {
   "cell_type": "markdown",
   "metadata": {},
   "source": [
    "## Background\n",
    "\n",
    "As a group, we've always been people who care about how we look and how that effects our personal self image. But, we constantly get caught in a loop of scrolling and scrolling for products on Amazon until we lose track of time, and the products that we actually liked. That's why we wanted to code a Google Chrome Extension to track shopping for skincare and provide resources that make the process as easy as possible. \n",
    "\n",
    "### Initial concepts:\n",
    "\n",
    "- Aidan Lau (Scrum Master):\n",
    "    - Skincare purchasing and tips website\n",
    "    - Connects to shopping platform - maybe amazon?\n",
    "    - Google Chrome Extension\n",
    "    - Backend API dev for Frontend website download page\n",
    "\n",
    "- Rayyan Darugar (Devops)\n",
    "    - Timer function?\n",
    "    - Could be used to time usage of shopping platforms \n",
    "    - Could log products you heart with the extension so you can go back to your favorites later\n",
    "    - Develop chrome extension like a regular website and then use the chrome tools to add it to the web store\n",
    "\n",
    "- Daniel Choi\n",
    "    - Design should be developed in Canva or Figma\n",
    "    - Use a Python Flask server for backend and host on AWS\n",
    "    - Repo shared bewteen team via Github\n",
    "    - Classy download page but not much input necessary\n",
    "\n",
    "- Nathan Obodovski\n",
    "    - Repo Dev using Data UML \n",
    "    - Follows essence web design template\n",
    "    - 3 main web functions - Download page, User Stats, and the Developer Planning Page\n",
    "\n",
    "### Project Diagrams\n",
    "\n",
    "- Frontend Design\n",
    "<img src=\"/projectskincare/images/frontend.png\" alt=\"Frontend Design Plan\" style=\"height: 400px; width:1000px;\"/>\n",
    "\n",
    "- UML Diagram\n",
    "<img src=\"/projectskincare/images/UML.png\" alt=\"Frontend Design Plan\" style=\"height: 400px; width:1000px;\"/>\n",
    "\n"
   ]
  }
 ],
 "metadata": {
  "kernelspec": {
   "display_name": "Python 3 (ipykernel)",
   "language": "python",
   "name": "python3"
  },
  "language_info": {
   "codemirror_mode": {
    "name": "ipython",
    "version": 3
   },
   "file_extension": ".py",
   "mimetype": "text/x-python",
   "name": "python",
   "nbconvert_exporter": "python",
   "pygments_lexer": "ipython3",
   "version": "3.11.4"
  }
 },
 "nbformat": 4,
 "nbformat_minor": 2
}

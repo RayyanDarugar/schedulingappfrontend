{
 "cells": [
  {
   "attachments": {},
   "cell_type": "markdown",
   "metadata": {},
   "source": [
    "---\n",
    "comments: true\n",
    "layout: notebook\n",
    "title: Scheduling App\n",
    "description: The idea of a scheduling app that plans out your homework throughout the day came from the needs of the team members of our project. Procrastinating is a large issue that all of us face, so this app is intended to help guide users into completing their homeworks with breaks.\n",
    "type: hacks\n",
    "courses: { compsci: {week: 0} }\n",
    "---"
   ]
  },
  {
   "cell_type": "markdown",
   "metadata": {},
   "source": [
    "## Background\n",
    "\n",
    "As a group, we've always been people who procrasinate and don't complete homework in time. Despite the awareness of our procrasination, we always fail to defeat it and always stay up late to finish our homework. That's why we wanted to create a scheduling app, Study Buddy, that helps you plan out your day so you can complete your homework in time and stres-free\n",
    "\n",
    "### Initial concepts:\n",
    "\n",
    "- Aidan Lau (Scrum Master):\n",
    "    - Scheduling App design and managing workflow\n",
    "    - Deploy on AWS\n",
    "    - Backend API dev to send data to Frontend page\n",
    "\n",
    "- Rayyan Darugar (Devops)\n",
    "    - Timer \n",
    "        - Could be used to let user know to take breaks and how long they have left to complete homework\n",
    "        - Could use a pomodoro timer to help user's productivity\n",
    "        - Could extend the timer for a certain course because it's a more time-intensive course like AP History\n",
    "\n",
    "- Daniel Choi\n",
    "    - Design should be developed in Canva or Figma\n",
    "    - Use a Python Flask server for backend and host on AWS\n",
    "    - Repo shared bewteen team via Github\n",
    "    - Classy download page but not much input necessary\n",
    "\n",
    "- Nathan Obodovski\n",
    "    - Repo Dev using Data UML \n",
    "    - Follows essence web design template\n",
    "    - 3 main web functions - Download page, User Stats, and the Developer Planning Page\n",
    "\n",
    "### Project Diagrams\n",
    "\n",
    "- Frontend Design\n",
    "<img src=\"/projectskincare/images/frontend.png\" alt=\"Frontend Design Plan\" style=\"height: 400px; width:1000px;\"/>\n",
    "\n",
    "- UML Diagram\n",
    "<img src=\"/projectskincare/images/UML.png\" alt=\"Frontend Design Plan\" style=\"height: 400px; width:1000px;\"/>\n",
    "\n"
   ]
  }
 ],
 "metadata": {
  "kernelspec": {
   "display_name": "Python 3 (ipykernel)",
   "language": "python",
   "name": "python3"
  },
  "language_info": {
   "codemirror_mode": {
    "name": "ipython",
    "version": 3
   },
   "file_extension": ".py",
   "mimetype": "text/x-python",
   "name": "python",
   "nbconvert_exporter": "python",
   "pygments_lexer": "ipython3",
   "version": "3.11.4"
  }
 },
 "nbformat": 4,
 "nbformat_minor": 2
}
